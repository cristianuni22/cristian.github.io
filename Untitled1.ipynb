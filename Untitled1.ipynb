{
  "nbformat": 4,
  "nbformat_minor": 0,
  "metadata": {
    "colab": {
      "provenance": [],
      "authorship_tag": "ABX9TyPDbKvYZy+yjVOWJbsWv1tO",
      "include_colab_link": true
    },
    "kernelspec": {
      "name": "python3",
      "display_name": "Python 3"
    },
    "language_info": {
      "name": "python"
    }
  },
  "cells": [
    {
      "cell_type": "markdown",
      "metadata": {
        "id": "view-in-github",
        "colab_type": "text"
      },
      "source": [
        "<a href=\"https://colab.research.google.com/github/cristianuni22/cristian.github.io/blob/main/Untitled1.ipynb\" target=\"_parent\"><img src=\"https://colab.research.google.com/assets/colab-badge.svg\" alt=\"Open In Colab\"/></a>"
      ]
    },
    {
      "cell_type": "code",
      "execution_count": null,
      "metadata": {
        "colab": {
          "base_uri": "https://localhost:8080/"
        },
        "id": "D7LOP0IPkYX8",
        "outputId": "c3fb3d32-e498-4016-fdcd-9568480712ec"
      },
      "outputs": [
        {
          "output_type": "stream",
          "name": "stdout",
          "text": [
            "\n",
            "Conversión de Celsius a Fahrenheit\n",
            "Ingresa los grados Celsius: 40\n",
            "40.0°C equivalen a 104.0°F\n"
          ]
        }
      ],
      "source": [
        "# Conversión de Celsius a Fahrenheit\n",
        "print(\"\\nConversión de Celsius a Fahrenheit\")\n",
        "celsius = float(input(\"Ingresa los grados Celsius: \"))\n",
        "fahrenheit = (celsius * 9/5) + 32\n",
        "print(f\"{celsius}°C equivalen a {fahrenheit}°F\")"
      ]
    },
    {
      "cell_type": "code",
      "source": [
        "# Cálculo del área de un triángulo\n",
        "print(\"Cálculo del área de un triángulo\")\n",
        "base = float(input(\"Ingresa la base del triángulo: \"))\n",
        "altura = float(input(\"Ingresa la altura del triángulo: \"))\n",
        "area = (base * altura) / 2\n",
        "print(\"El área del triángulo es:\", area)\n"
      ],
      "metadata": {
        "colab": {
          "base_uri": "https://localhost:8080/"
        },
        "id": "v1NQ5HCflI95",
        "outputId": "ef340246-b516-4ece-eb6c-708ded4cf775"
      },
      "execution_count": null,
      "outputs": [
        {
          "output_type": "stream",
          "name": "stdout",
          "text": [
            "Cálculo del área de un triángulo\n",
            "Ingresa la base del triángulo: 8\n",
            "Ingresa la altura del triángulo: 9\n",
            "El área del triángulo es: 36.0\n"
          ]
        }
      ]
    }
  ]
}